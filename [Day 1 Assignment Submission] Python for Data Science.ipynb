{
 "cells": [
  {
   "cell_type": "code",
   "execution_count": 1,
   "metadata": {},
   "outputs": [
    {
     "name": "stdout",
     "output_type": "stream",
     "text": [
      "Enter value of principle: 5\n",
      "Enter value of rate: 6.1\n",
      "Enter value of time: 9\n",
      "Hence, the simple interest in 2 decimal places is :  2.75\n"
     ]
    }
   ],
   "source": [
    "a=float(input(\"Enter value of principle: \"))\n",
    "b=float(input(\"Enter value of rate: \"))\n",
    "c=float(input(\"Enter value of time: \"))\n",
    "\n",
    "d=float((a*b*c)/100)\n",
    "\n",
    "formatted_float = \"{:.2f}\".format(d)\n",
    "\n",
    "print(\"Hence, the simple interest in 2 decimal places is : \" , formatted_float)"
   ]
  },
  {
   "cell_type": "code",
   "execution_count": null,
   "metadata": {},
   "outputs": [],
   "source": []
  }
 ],
 "metadata": {
  "kernelspec": {
   "display_name": "Python 3",
   "language": "python",
   "name": "python3"
  },
  "language_info": {
   "codemirror_mode": {
    "name": "ipython",
    "version": 3
   },
   "file_extension": ".py",
   "mimetype": "text/x-python",
   "name": "python",
   "nbconvert_exporter": "python",
   "pygments_lexer": "ipython3",
   "version": "3.8.5"
  }
 },
 "nbformat": 4,
 "nbformat_minor": 4
}
